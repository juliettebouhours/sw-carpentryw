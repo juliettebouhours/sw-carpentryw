{
 "cells": [
  {
   "cell_type": "code",
   "execution_count": 30,
   "metadata": {
    "collapsed": false
   },
   "outputs": [
    {
     "name": "stdout",
     "output_type": "stream",
     "text": [
      "What year were you born? 1988\n",
      "Your Chinese Zodiac animal is Dragon\n",
      "\n",
      "Here is a description of your Chinese Zodiac animal:\n",
      "Dragon. Ambition and dominance are the chief characteristics of Dragons. They love challenges and are always willing to take risks. They are mostly successful when allowed to work alone. Since they love leading, they achieve success as inventors, managers, engineers and architects.\n",
      "\n"
     ]
    }
   ],
   "source": [
    "#new version with this comment just for git test\n",
    "\"\"\"\n",
    "While taking a class on the culture of China, you have learned about the Chinese zodiac in which people fall into 1 of 12 categories, depending on the year of their birth. The categories, numbered 0 to 11, correspond to the following animals:\n",
    "\n",
    "(0) monkey\n",
    "(1) rooster\n",
    "(2) dog\n",
    "(3) pig\n",
    "(4) rat\n",
    "(5) ox\n",
    "(6) tiger\n",
    "(7) rabbit\n",
    "(8) dragon\n",
    "(9) snake\n",
    "(10) horse\n",
    "(11) goat\n",
    "\n",
    "Those who believe in this zodiac think that the year of a person's birth influences both their personality and fortune in life.\n",
    "\n",
    "Your task is to build a program that will ask a user for their birth year and tell them their zodiac sign.  If the user does not enter a number that can be interpreted as a year then an error message must be shown and the user given another chance.  If the user types \"quit\" then the program halts.\n",
    "\n",
    "For extra credit: save each year that is input to a file and print a chart showing how many of each type or animal have been returned.\n",
    "\n",
    "To find your zodiac sign, divide the year of your birth by 12. The remainder then determines your sign. For example: The remainder when we divide 1985 by 12, is 5; therefore, a person born in 1985 is an ox according to the Chinese zodiac.\n",
    "\"\"\"\n",
    "\n",
    "# Now we are going to plan the program\n",
    "\n",
    "# Open the Zodiac description file ZodiacDescription.txt\n",
    "ZodiacText= open('zodiacDescriptions.txt','r') # open this file as a read only file\n",
    "ZodiacDescText= open('zodiacDescriptions2.txt','r') # the description for each sign\n",
    "\n",
    "#for line in ZodiacText: # default counting/element in a text file are lines, for a string it is character, for a list is element...\n",
    "#    print(line) # print each elemet in the text file\n",
    "    \n",
    "    \n",
    "\n",
    "\n",
    "# Read the file: We nned to make a list with each line of the file to return the right zodiac sign\n",
    "ZodiacList = [] # creating an empty list, so that Pyhton know the variable when we use it/complete it\n",
    "ZodiacDescList= []\n",
    "#index=0\n",
    "for line in ZodiacText:\n",
    "    ZodiacList.append(line)\n",
    "    #ZodiacList[index]= line #==> does not work\n",
    "    #index+=1\n",
    "for line in ZodiacDescText:\n",
    "    ZodiacDescList.append(line)\n",
    "    \n",
    "#print(ZodiacList) #just to make sure it works \n",
    "\n",
    "# close the file, do it now because we don't need this anymore\n",
    "ZodiacText.close() #closing the file allow the computer to save it and put it in the memory instead of keeping it in the \"buffer\"\n",
    "ZodiacDescText.close() \n",
    "# Start the program\n",
    "\n",
    "#def zodiac():\n",
    "    \n",
    "# Ask the user for input \n",
    "# first start with a given number to built a working program \n",
    "# and then when sure it works we change our given variable by the one the user gives us\n",
    "\n",
    "\n",
    "# need to build some back up in case the input is not an integer ==> error trapping\n",
    "try:\n",
    "    birthYear=int(input(\"What year were you born? \"))\n",
    "    #birthYear=int(birthYear)\n",
    "    #birthYear= 2015\n",
    "    # because the memory keeps tabs on previous values of the parameters we need to put more content in the try\n",
    "    ZodiacIndex=(birthYear+8)%12 #the list is wrongly indexed everyhting is shifted by +8 or -4 %12\n",
    "    #print(ZodiacIndex)\n",
    "    # run the program\n",
    "\n",
    "    # Tell them the result\n",
    "    print(\"Your Chinese Zodiac animal is \"+ZodiacList[ZodiacIndex])\n",
    "    print(\"Here is a description of your Chinese Zodiac animal:\\n\"+ ZodiacDescList[ZodiacIndex])\n",
    "except ValueError:  \n",
    "    print(\"You did not provide a year in the form of an integer\")\n",
    "\n",
    "# repeat"
   ]
  },
  {
   "cell_type": "code",
   "execution_count": null,
   "metadata": {
    "collapsed": true
   },
   "outputs": [],
   "source": []
  }
 ],
 "metadata": {
  "kernelspec": {
   "display_name": "Python 3",
   "language": "python",
   "name": "python3"
  },
  "language_info": {
   "codemirror_mode": {
    "name": "ipython",
    "version": 3
   },
   "file_extension": ".py",
   "mimetype": "text/x-python",
   "name": "python",
   "nbconvert_exporter": "python",
   "pygments_lexer": "ipython3",
   "version": "3.4.3"
  }
 },
 "nbformat": 4,
 "nbformat_minor": 0
}
